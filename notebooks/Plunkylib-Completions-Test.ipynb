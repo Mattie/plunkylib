{
 "cells": [
  {
   "cell_type": "code",
   "execution_count": 1,
   "metadata": {},
   "outputs": [],
   "source": [
    "# Plunkylib creates its files in the current working directory, so let's change to the parent directory if we're in the notebooks directory, since we want to use the default samples\n",
    "import os\n",
    "if os.path.basename(os.getcwd()) == \"notebooks\":\n",
    "    os.chdir(\"..\")\n",
    "\n",
    "# we also want to ensure we have a .env file that contains our API keys, so warn if we don't have that file present in this directory\n",
    "if not os.path.exists(\".env\"):\n",
    "    print(\"WARNING: No .env file found in this directory. Please create one with the API Key contents mentioned in the README.md file.\")"
   ]
  },
  {
   "cell_type": "code",
   "execution_count": 2,
   "metadata": {},
   "outputs": [],
   "source": [
    "from plunkylib import *\n",
    "from plunkylib.aiwrapper import *"
   ]
  },
  {
   "cell_type": "code",
   "execution_count": 3,
   "metadata": {},
   "outputs": [
    {
     "name": "stderr",
     "output_type": "stream",
     "text": [
      "2022-07-05 09:48:31.912 | DEBUG    | plunkylib.aiwrapper:_completion:45 - CONFIG:\n",
      "    Prompt: '<|endoftext|>KYS, n00b.\\n--\\nLabel:'\n",
      "    Temperature: 0\n",
      "    Engine: content-filter-alpha\n",
      "    Max Tokens: 1\n",
      "    Top-P: 0\n",
      "    Stop: None\n",
      "    Presence Penalty 0\n",
      "    Frequency Penalty: 0\n",
      "    Echo: False\n",
      "    N: 1\n",
      "    Stream: False\n",
      "    Log-Probs: 10\n",
      "    Best Of: 1\n",
      "    Logit Bias: {}\n",
      "2022-07-05 09:48:32.483 | DEBUG    | plunkylib.aiwrapper:_completion:75 - GPT-3 Completion Result: {\n",
      "  \"choices\": [\n",
      "    {\n",
      "      \"finish_reason\": \"length\",\n",
      "      \"index\": 0,\n",
      "      \"logprobs\": {\n",
      "        \"text_offset\": [\n",
      "          33\n",
      "        ],\n",
      "        \"token_logprobs\": [\n",
      "          -0.0005988019\n",
      "        ],\n",
      "        \"tokens\": [\n",
      "          \"0\"\n",
      "        ],\n",
      "        \"top_logprobs\": [\n",
      "          {\n",
      "            \"0\": -0.0005988019,\n",
      "            \"00\": -12.213974,\n",
      "            \"1\": -7.737437,\n",
      "            \"2\": -8.876286,\n",
      "            \"N\": -12.607784\n",
      "          }\n",
      "        ]\n",
      "      },\n",
      "      \"text\": \"0\"\n",
      "    }\n",
      "  ],\n",
      "  \"created\": 1657032512,\n",
      "  \"id\": \"cmpl-5Qe8mYed0GJuwtBY6owhl6UH60bM6\",\n",
      "  \"model\": \"content-filter-alpha\",\n",
      "  \"object\": \"text_completion\",\n",
      "  \"usage\": {\n",
      "    \"completion_tokens\": 1,\n",
      "    \"prompt_tokens\": 13,\n",
      "    \"total_tokens\": 14\n",
      "  }\n",
      "}\n"
     ]
    },
    {
     "name": "stdout",
     "output_type": "stream",
     "text": [
      "0\n"
     ]
    }
   ],
   "source": [
    "x = await content_classification(\"KYS, n00b.\")\n",
    "print(x)"
   ]
  }
 ],
 "metadata": {
  "kernelspec": {
   "display_name": "Python 3.9.5 64-bit",
   "language": "python",
   "name": "python3"
  },
  "language_info": {
   "codemirror_mode": {
    "name": "ipython",
    "version": 3
   },
   "file_extension": ".py",
   "mimetype": "text/x-python",
   "name": "python",
   "nbconvert_exporter": "python",
   "pygments_lexer": "ipython3",
   "version": "3.9.5"
  },
  "orig_nbformat": 4,
  "vscode": {
   "interpreter": {
    "hash": "fa9af9f86d1d854ae0204e4baada49d6c0051b058ab6ea52d61832c609c5af7d"
   }
  }
 },
 "nbformat": 4,
 "nbformat_minor": 2
}
