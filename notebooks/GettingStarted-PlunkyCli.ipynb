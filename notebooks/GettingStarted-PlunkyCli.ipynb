{
 "cells": [
  {
   "cell_type": "markdown",
   "metadata": {},
   "source": [
    "# Getting Started with Plunkylib CLI\n",
    "This notebook will show you a bit more about how the CLI interface works, much like the ReadMe, but more interactive."
   ]
  },
  {
   "cell_type": "markdown",
   "metadata": {},
   "source": [
    "## Quick Setup\n",
    "Assuming you've cloned the plunkylib repo, we'll need to move the current working directory into the project root.\n",
    "\n",
    "_Note: It's recommended that you have already setup a .env file with your API keys for the engines you use. The example uses OpenAI GPT3._"
   ]
  },
  {
   "cell_type": "code",
   "execution_count": 2,
   "metadata": {},
   "outputs": [],
   "source": [
    "import os\n",
    "if os.path.basename(os.getcwd()) == \"notebooks\":\n",
    "    os.chdir(\"..\")\n",
    "\n",
    "# we also want to ensure we have a .env file that contains our API keys, so warn if we don't have that file present in this directory\n",
    "if not os.path.exists(\".env\"):\n",
    "    print(\"WARNING: No .env file found in this directory. Please create one with the API Key contents mentioned in the README.md file.\")"
   ]
  },
  {
   "cell_type": "markdown",
   "metadata": {},
   "source": [
    "Is everything working and we have Python 3.9+?"
   ]
  },
  {
   "cell_type": "code",
   "execution_count": 10,
   "metadata": {},
   "outputs": [
    {
     "name": "stdout",
     "output_type": "stream",
     "text": [
      "Python 3.9.5\n",
      "Usage: cli.py [OPTIONS] COMMAND [ARGS]...\n",
      "\n",
      "Options:\n",
      "  --install-completion [bash|zsh|fish|powershell|pwsh]\n",
      "                                  Install completion for the specified shell.\n",
      "  --show-completion [bash|zsh|fish|powershell|pwsh]\n",
      "                                  Show completion for the specified shell, to\n",
      "                                  copy it or customize the installation.\n",
      "\n",
      "  --help                          Show this message and exit.\n",
      "\n",
      "Commands:\n",
      "  complete    (commands to complete texts from prompts)\n",
      "  interact    (interactive petition usage)\n",
      "  params      (records for settings for engine, temperature, etc)\n",
      "  pet         (records for petititions, reusable combined prompt/params)\n",
      "  prompt      (records for text used for completions)\n",
      "  promptvars  (records for replacing text in prompts)\n"
     ]
    }
   ],
   "source": [
    "!python3 --version\n",
    "!python3 cli.py"
   ]
  },
  {
   "cell_type": "markdown",
   "metadata": {},
   "source": [
    "## Usage\n",
    "### Create your engine parameters\n",
    "We'll use the example GPT3 parameters for starters to create our new ones."
   ]
  },
  {
   "cell_type": "code",
   "execution_count": 4,
   "metadata": {},
   "outputs": [
    {
     "name": "stdout",
     "output_type": "stream",
     "text": [
      "Copied CompletionParams ExampleGPT3 to MyFirstEngine:\n",
      "CompletionParams(name='MyFirstEngine', engine='text-davinci-002', n=1, best_of=1, max_tokens=300, stop=['\\n\\n', '----\\n'], temperature=0.3, top_p=1.0, frequency_penalty=0.0, presence_penalty=0.0)\n"
     ]
    }
   ],
   "source": [
    "!python3 cli.py params copyfrom ExampleGPT3 MyFirstEngine"
   ]
  },
  {
   "cell_type": "markdown",
   "metadata": {},
   "source": [
    "### Copy the example prompt to use"
   ]
  },
  {
   "cell_type": "code",
   "execution_count": 5,
   "metadata": {},
   "outputs": [
    {
     "name": "stdout",
     "output_type": "stream",
     "text": [
      "Copied Prompt ExampleSimple to MyFirstPrompt:\n",
      "Prompt(name='MyFirstPrompt', text='Describe the color of the sky in flowery language:\\n----\\nDESCRIPTION:\\n')\n"
     ]
    }
   ],
   "source": [
    "!python3 cli.py prompt copyfrom ExampleSimple MyFirstPrompt"
   ]
  },
  {
   "cell_type": "markdown",
   "metadata": {},
   "source": [
    "### Make a petition that uses our prompt and engine info"
   ]
  },
  {
   "cell_type": "code",
   "execution_count": 6,
   "metadata": {},
   "outputs": [
    {
     "name": "stdout",
     "output_type": "stream",
     "text": [
      "Created Petition MyFirstPetition, Petition(name='MyFirstPetition', prompt_name='MyFirstPrompt', params_name='MyFirstEngine', promptvars_name=None)\n"
     ]
    }
   ],
   "source": [
    "!python3 cli.py pet create MyFirstPetition MyFirstPrompt MyFirstEngine"
   ]
  },
  {
   "cell_type": "markdown",
   "metadata": {},
   "source": [
    "### Seek Completion!\n",
    "Now we'll \"petition\" the all-knowing AI to complete the text in our prompt using the parameters"
   ]
  },
  {
   "cell_type": "code",
   "execution_count": 7,
   "metadata": {},
   "outputs": [
    {
     "name": "stdout",
     "output_type": "stream",
     "text": [
      " The sky is a beautiful blue color. It looks like a big ocean that you can never swim in.\n",
      "\n"
     ]
    }
   ],
   "source": [
    "!python3 cli.py complete use-pet MyFirstPetition"
   ]
  },
  {
   "cell_type": "markdown",
   "metadata": {},
   "source": [
    "### Edit the Prompt in a Text Editor\n",
    "Let's simulate updating the file in a text editor. Note that you want to keep the first line and the last line untouched, but the center part is fair game. The code below will overwrite our file on disk with a new prompt."
   ]
  },
  {
   "cell_type": "code",
   "execution_count": 11,
   "metadata": {},
   "outputs": [
    {
     "name": "stdout",
     "output_type": "stream",
     "text": [
      "Overwriting prompts/MyFirstPrompt.txt\n"
     ]
    }
   ],
   "source": [
    "%%writefile prompts/MyFirstPrompt.txt\n",
    "text|str\n",
    "Describe, in great detail, the smell of the beach after an oil spill.\n",
    "\n",
    "DESCRIPTION:\n",
    "\n",
    "#-=-=-=-=-DO-NOT-EDIT-THIS-LINE-PLEASE-=-=-=-=-#"
   ]
  },
  {
   "cell_type": "markdown",
   "metadata": {},
   "source": [
    "Let us petition the AI again and seek its wisdom..."
   ]
  },
  {
   "cell_type": "code",
   "execution_count": 12,
   "metadata": {},
   "outputs": [
    {
     "name": "stdout",
     "output_type": "stream",
     "text": [
      " The beach smells like a mixture of oil and salt water. There is a strong smell of petroleum and a hint of seaweed. The oil has a heavy, greasy feel to it.\n",
      "\n"
     ]
    }
   ],
   "source": [
    "!python3 cli.py complete use-pet MyFirstPetition"
   ]
  }
 ],
 "metadata": {
  "kernelspec": {
   "display_name": "Python 3.9.5 64-bit",
   "language": "python",
   "name": "python3"
  },
  "language_info": {
   "codemirror_mode": {
    "name": "ipython",
    "version": 3
   },
   "file_extension": ".py",
   "mimetype": "text/x-python",
   "name": "python",
   "nbconvert_exporter": "python",
   "pygments_lexer": "ipython3",
   "version": "3.9.5"
  },
  "orig_nbformat": 4,
  "vscode": {
   "interpreter": {
    "hash": "fa9af9f86d1d854ae0204e4baada49d6c0051b058ab6ea52d61832c609c5af7d"
   }
  }
 },
 "nbformat": 4,
 "nbformat_minor": 2
}
