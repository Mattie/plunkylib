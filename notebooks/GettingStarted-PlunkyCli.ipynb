{
 "cells": [
  {
   "cell_type": "markdown",
   "metadata": {},
   "source": [
    "# Getting Started with Plunkylib CLI\n",
    "This notebook will show you a bit more about how the CLI interface works, much like the ReadMe, but more interactive."
   ]
  },
  {
   "cell_type": "markdown",
   "metadata": {},
   "source": [
    "## Quick Setup\n",
    "Assuming you've cloned the plunkylib repo, we'll need to move the current working directory into the project root.\n",
    "\n",
    "_Note: It's recommended that you have already setup a .env file with your API keys for the engines you use. The example uses OpenAI GPT3._"
   ]
  },
  {
   "cell_type": "code",
   "execution_count": null,
   "metadata": {},
   "outputs": [],
   "source": [
    "import os\n",
    "if os.path.basename(os.getcwd()) == \"notebooks\":\n",
    "    os.chdir(\"..\")\n",
    "# we also want to ensure we have a .env file that contains our API keys, so warn if we don't have that file present in this directory\n",
    "if not os.path.exists(\".env\"):\n",
    "    print(\"WARNING: No .env file found in this directory. Please create one with the API Key contents mentioned in the README.md file.\")"
   ]
  },
  {
   "cell_type": "markdown",
   "metadata": {},
   "source": [
    "Is everything working and we have Python 3.9+?"
   ]
  },
  {
   "cell_type": "code",
   "execution_count": null,
   "metadata": {},
   "outputs": [],
   "source": [
    "!python --version\n",
    "!python -m plunkylib --help"
   ]
  },
  {
   "cell_type": "markdown",
   "metadata": {},
   "source": [
    "## Usage\n",
    "### Create your engine parameters\n",
    "We'll use the example GPT3 parameters for starters to create our new ones."
   ]
  },
  {
   "cell_type": "code",
   "execution_count": null,
   "metadata": {},
   "outputs": [],
   "source": [
    "!python -m plunkylib params copyfrom ExampleGPT3 MyFirstEngine"
   ]
  },
  {
   "cell_type": "markdown",
   "metadata": {},
   "source": [
    "### Copy the example prompt to use"
   ]
  },
  {
   "cell_type": "code",
   "execution_count": null,
   "metadata": {},
   "outputs": [],
   "source": [
    "!python -m plunkylib prompt copyfrom ExampleSimple MyFirstPrompt"
   ]
  },
  {
   "cell_type": "markdown",
   "metadata": {},
   "source": [
    "### Make a petition that uses our prompt and engine info"
   ]
  },
  {
   "cell_type": "code",
   "execution_count": null,
   "metadata": {},
   "outputs": [],
   "source": [
    "!python -m plunkylib pet create MyFirstPetition MyFirstEngine MyFirstPrompt\n"
   ]
  },
  {
   "cell_type": "markdown",
   "metadata": {},
   "source": [
    "### Seek Completion!\n",
    "Now we'll \"petition\" the all-knowing AI to complete the text in our prompt using the parameters"
   ]
  },
  {
   "cell_type": "code",
   "execution_count": null,
   "metadata": {},
   "outputs": [],
   "source": [
    "!python -m plunkylib complete use-pet MyFirstPetition"
   ]
  },
  {
   "cell_type": "markdown",
   "metadata": {},
   "source": [
    "### Edit the Prompt in a Text Editor\n",
    "Let's simulate updating the file in a text editor. Note that you want to keep the first line and the last line untouched, but the center part is fair game. The code below will overwrite our file on disk with a new prompt."
   ]
  },
  {
   "cell_type": "code",
   "execution_count": null,
   "metadata": {},
   "outputs": [],
   "source": [
    "%%writefile datafiles/plunkylib/prompts/MyFirstPrompt.txt\n",
    "text|str\n",
    "Describe, in great detail, the smell of the beach after an oil spill.\n",
    "\n",
    "DESCRIPTION:\n",
    "\n",
    "#-=-=-=-=-DO-NOT-EDIT-THIS-LINE-PLEASE-=-=-=-=-#"
   ]
  },
  {
   "cell_type": "markdown",
   "metadata": {},
   "source": [
    "Let us petition the AI again and seek its wisdom..."
   ]
  },
  {
   "cell_type": "code",
   "execution_count": null,
   "metadata": {},
   "outputs": [],
   "source": [
    "!python -m plunkylib complete use-pet MyFirstPetition"
   ]
  }
 ],
 "metadata": {
  "kernelspec": {
   "display_name": "Python 3.9.5 64-bit",
   "language": "python",
   "name": "python3"
  },
  "language_info": {
   "codemirror_mode": {
    "name": "ipython",
    "version": 3
   },
   "file_extension": ".py",
   "mimetype": "text/x-python",
   "name": "python",
   "nbconvert_exporter": "python",
   "pygments_lexer": "ipython3",
   "version": "3.10.6"
  },
  "orig_nbformat": 4,
  "vscode": {
   "interpreter": {
    "hash": "fa9af9f86d1d854ae0204e4baada49d6c0051b058ab6ea52d61832c609c5af7d"
   }
  }
 },
 "nbformat": 4,
 "nbformat_minor": 2
}
